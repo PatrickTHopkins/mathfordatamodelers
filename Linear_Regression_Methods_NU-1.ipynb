{
 "cells": [
  {
   "cell_type": "markdown",
   "metadata": {},
   "source": [
    "# MSDS 400 - Using Linear Regression for prediction\n",
    "\n",
    "\n",
    "For the two variables x and y in the table further below complete the following:  \n",
    "1. create a scatter plot \n",
    "2. calculate the mean square error of a linear regression model and \n",
    "3. predict the value of y when x is 10.0\n",
    "\n",
    "\n",
    "x|y\n",
    ":-------:|:------:\n",
    " 0.1 | 0.2 \n",
    "1.0|1.1\n",
    "1.5|1.2\n",
    "3.1|2.5\n",
    "5.5|3\n",
    "4.8|3.2\n",
    "6|3.2\n",
    "8|4.2\n",
    "9.3|4.0\n",
    "11.5|5.2\n",
    "\n",
    "For the linear regression models in 2. we will be using the following options\n",
    "* Scipy.Polyfit\n",
    "* Stats.linregress\n",
    "* numpy.linalg.lstsq\n",
    "* statsmodels.OLS\n",
    "* sklearn.linear_model.LinearRegression"
   ]
  },
  {
   "cell_type": "markdown",
   "metadata": {},
   "source": [
    "## Import libraries"
   ]
  },
  {
   "cell_type": "code",
   "execution_count": 46,
   "metadata": {},
   "outputs": [],
   "source": [
    "from scipy import linspace, polyval, polyfit, sqrt, stats, randn, optimize\n",
    "import matplotlib.pyplot as plt\n",
    "import numpy as np\n",
    "from sklearn.linear_model import LinearRegression\n",
    "import pandas as pd\n",
    "%matplotlib inline"
   ]
  },
  {
   "cell_type": "markdown",
   "metadata": {},
   "source": [
    "## Use numpy arrays to store x and y"
   ]
  },
  {
   "cell_type": "code",
   "execution_count": 50,
   "metadata": {},
   "outputs": [],
   "source": [
    "x = np.array([0.1,1.0,1.5,3.1,5.5,4.8,7.0,8.0,9.3,11.5])\n",
    "y = np.array([0.2,1.7,1.2,1.9,4.5,3.2,3.2,4.2,4.0,5.2])"
   ]
  },
  {
   "cell_type": "markdown",
   "metadata": {},
   "source": [
    "### Plot the points"
   ]
  },
  {
   "cell_type": "code",
   "execution_count": 51,
   "metadata": {},
   "outputs": [
    {
     "data": {
      "image/png": "[encoded data removed]",
      "text/plain": [
       "<matplotlib.figure.Figure at 0x221c5763ef0>"
      ]
     },
     "metadata": {},
     "output_type": "display_data"
    }
   ],
   "source": [
    "plt.scatter(x,y,c='green',edgecolors='k')\n",
    "plt.grid(True)\n",
    "plt.show()"
   ]
  },
  {
   "cell_type": "markdown",
   "metadata": {},
   "source": [
    "## Method: Scipy.Polyfit"
   ]
  },
  {
   "cell_type": "code",
   "execution_count": 67,
   "metadata": {},
   "outputs": [
    {
     "data": {
      "image/png": "[encoded data removed]",
      "text/plain": [
       "<matplotlib.figure.Figure at 0x221c5a57eb8>"
      ]
     },
     "metadata": {},
     "output_type": "display_data"
    },
    {
     "name": "stdout",
     "output_type": "stream",
     "text": [
      "Linear Regression using polyfit\n",
      "Mean Squared Error (MSE) =  0.4\n",
      "When x = 10.0, we predict that y =  4.8\n"
     ]
    }
   ],
   "source": [
    "#Linear regression -polyfit - polyfit can be used for various order polynomials\n",
    "\n",
    "# Pass x, y and a degree of 1 since we know there is a linear relationship\n",
    "(slope, intercept) = polyfit(x,y,1)\n",
    "yhat = slope*x+intercept\n",
    "\n",
    "# 2. Compute the mean square error\n",
    "err = (sum((yhat-y)**2)/len(x))\n",
    "\n",
    "# 3.\n",
    "x_val = 10.0\n",
    "polyfit_predicted = round(slope * x_val + intercept,1)\n",
    "\n",
    "# Plot of the fitted line and prediction\n",
    "plt.grid(True)\n",
    "plt.scatter(x,y,c='green',edgecolors='k',label='Original data')\n",
    "plt.plot(x, slope*x + intercept, 'r-',label='Polyfit Fit Line')\n",
    "plt.scatter(x_val,polyfit_predicted,marker='*',s=100,c='blue',label = 'Prediction') \n",
    "plt.xlabel('x-axis')\n",
    "plt.ylabel('y-axis')\n",
    "plt.legend()\n",
    "plt.show()\n",
    "\n",
    "\n",
    "print('Linear Regression using polyfit')\n",
    "print('Mean Squared Error (MSE) = ' ,round(err,1))\n",
    "print('When x = 10.0, we predict that y = ', polyfit_predicted)"
   ]
  }
 ],
 "metadata": {
  "kernelspec": {
   "display_name": "Python 3",
   "language": "python",
   "name": "python3"
  },
  "language_info": {
   "codemirror_mode": {
    "name": "ipython",
    "version": 3
   },
   "file_extension": ".py",
   "mimetype": "text/x-python",
   "name": "python",
   "nbconvert_exporter": "python",
   "pygments_lexer": "ipython3",
   "version": "3.5.2"
  }
 },
 "nbformat": 4,
 "nbformat_minor": 2
}
